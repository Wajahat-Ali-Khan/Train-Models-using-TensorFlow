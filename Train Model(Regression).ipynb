{
 "cells": [
  {
   "cell_type": "code",
   "execution_count": 13,
   "metadata": {},
   "outputs": [],
   "source": [
    "import pandas as pd \n",
    "import numpy as np \n",
    "import tensorflow as tf\n",
    "import pandas as pd\n",
    "from sklearn.model_selection import train_test_split\n",
    "from sklearn import preprocessing as pp\n",
    "from tensorflow.keras.utils import to_categorical\n",
    "from tensorflow.keras import models\n",
    "from tensorflow.keras import layers\n",
    "from tensorflow.keras import optimizers\n",
    "import matplotlib.pyplot as plt\n",
    "import seaborn as sns\n",
    "from tensorflow.keras.layers import Dropout\n",
    "from tensorflow.keras.wrappers.scikit_learn import KerasClassifier\n",
    "from sklearn.model_selection import cross_val_score\n",
    "from sklearn.ensemble import RandomForestClassifier"
   ]
  },
  {
   "cell_type": "code",
   "execution_count": 4,
   "metadata": {},
   "outputs": [],
   "source": [
    "data = pd.read_csv(\"compresive_strength_concrete.csv\") "
   ]
  },
  {
   "cell_type": "code",
   "execution_count": 15,
   "metadata": {
    "scrolled": true
   },
   "outputs": [
    {
     "data": {
      "text/plain": [
       "(1030, 9)"
      ]
     },
     "execution_count": 15,
     "metadata": {},
     "output_type": "execute_result"
    }
   ],
   "source": [
    "data.shape\n",
    "# data.iloc[:,:9]"
   ]
  },
  {
   "cell_type": "code",
   "execution_count": 20,
   "metadata": {},
   "outputs": [],
   "source": [
    "x_train, x_test, y_train, y_test = train_test_split(data.iloc[:, :8], data.iloc[:, 8], test_size=0.3)"
   ]
  },
  {
   "cell_type": "code",
   "execution_count": 21,
   "metadata": {},
   "outputs": [],
   "source": [
    "# x_train, x_test, y_train, y_test = train_test_split(data.iloc[:, :8], data.iloc[:, 8], test_size=0.2)\n",
    "\n",
    "x_train, x_val, y_train, y_val = train_test_split(data.iloc[:, :8],  data.iloc[:, 8], test_size=0.2,random_state=1"
   ]
  },
  {
   "cell_type": "code",
   "execution_count": 60,
   "metadata": {},
   "outputs": [],
   "source": [
    "model = models.Sequential()\n",
    "model.add(layers.Dense(10, activation='relu', input_shape=(8,)))\n",
    "model.add(layers.Dense(8, activation='relu'))\n",
    "model.add(layers.Dense(6))"
   ]
  },
  {
   "cell_type": "code",
   "execution_count": 61,
   "metadata": {},
   "outputs": [],
   "source": [
    "model.compile(optimizer=optimizers.RMSprop(lr=0.001),\n",
    "loss='mae',\n",
    "metrics=['accuracy'])"
   ]
  },
  {
   "cell_type": "code",
   "execution_count": 62,
   "metadata": {},
   "outputs": [
    {
     "name": "stdout",
     "output_type": "stream",
     "text": [
      "WARNING:tensorflow:Falling back from v2 loop because of error: Failed to find data adapter that can handle input: <class 'pandas.core.frame.DataFrame'>, <class 'NoneType'>\n",
      "Train on 824 samples\n",
      "Epoch 1/100\n",
      "824/824 [==============================] - 0s 242us/sample - loss: 24.2791 - accuracy: 0.3750\n",
      "Epoch 2/100\n",
      "824/824 [==============================] - 0s 141us/sample - loss: 13.6186 - accuracy: 0.1250\n",
      "Epoch 3/100\n",
      "824/824 [==============================] - 0s 144us/sample - loss: 12.1863 - accuracy: 0.0133\n",
      "Epoch 4/100\n",
      "824/824 [==============================] - 0s 149us/sample - loss: 11.5447 - accuracy: 0.0388\n",
      "Epoch 5/100\n",
      "824/824 [==============================] - 0s 149us/sample - loss: 10.9263 - accuracy: 0.0522\n",
      "Epoch 6/100\n",
      "824/824 [==============================] - 0s 148us/sample - loss: 10.4312 - accuracy: 0.0376\n",
      "Epoch 7/100\n",
      "824/824 [==============================] - 0s 154us/sample - loss: 9.9342 - accuracy: 0.0158\n",
      "Epoch 8/100\n",
      "824/824 [==============================] - 0s 144us/sample - loss: 9.6009 - accuracy: 0.0097\n",
      "Epoch 9/100\n",
      "824/824 [==============================] - 0s 150us/sample - loss: 9.3679 - accuracy: 0.0036\n",
      "Epoch 10/100\n",
      "824/824 [==============================] - 0s 154us/sample - loss: 9.2325 - accuracy: 0.0279\n",
      "Epoch 11/100\n",
      "824/824 [==============================] - 0s 147us/sample - loss: 9.1004 - accuracy: 0.0376\n",
      "Epoch 12/100\n",
      "824/824 [==============================] - 0s 152us/sample - loss: 9.0029 - accuracy: 0.0316\n",
      "Epoch 13/100\n",
      "824/824 [==============================] - 0s 150us/sample - loss: 8.8894 - accuracy: 0.0036\n",
      "Epoch 14/100\n",
      "824/824 [==============================] - 0s 160us/sample - loss: 8.7259 - accuracy: 0.0570\n",
      "Epoch 15/100\n",
      "824/824 [==============================] - 0s 187us/sample - loss: 8.6781 - accuracy: 0.0558\n",
      "Epoch 16/100\n",
      "824/824 [==============================] - 0s 147us/sample - loss: 8.6722 - accuracy: 0.1165\n",
      "Epoch 17/100\n",
      "824/824 [==============================] - 0s 150us/sample - loss: 8.5344 - accuracy: 0.0631\n",
      "Epoch 18/100\n",
      "824/824 [==============================] - 0s 164us/sample - loss: 8.3994 - accuracy: 0.0206\n",
      "Epoch 19/100\n",
      "824/824 [==============================] - 0s 165us/sample - loss: 8.3453 - accuracy: 0.1165\n",
      "Epoch 20/100\n",
      "824/824 [==============================] - 0s 151us/sample - loss: 8.1857 - accuracy: 0.1699\n",
      "Epoch 21/100\n",
      "824/824 [==============================] - 0s 158us/sample - loss: 8.1258 - accuracy: 0.1408\n",
      "Epoch 22/100\n",
      "824/824 [==============================] - 0s 162us/sample - loss: 8.0195 - accuracy: 0.1930\n",
      "Epoch 23/100\n",
      "824/824 [==============================] - 0s 155us/sample - loss: 8.0165 - accuracy: 0.1517\n",
      "Epoch 24/100\n",
      "824/824 [==============================] - 0s 183us/sample - loss: 7.8905 - accuracy: 0.1165\n",
      "Epoch 25/100\n",
      "824/824 [==============================] - 0s 222us/sample - loss: 7.8499 - accuracy: 0.2403\n",
      "Epoch 26/100\n",
      "824/824 [==============================] - 0s 198us/sample - loss: 7.7720 - accuracy: 0.2791\n",
      "Epoch 27/100\n",
      "824/824 [==============================] - 0s 160us/sample - loss: 7.6625 - accuracy: 0.2039\n",
      "Epoch 28/100\n",
      "824/824 [==============================] - 0s 153us/sample - loss: 7.6957 - accuracy: 0.1505\n",
      "Epoch 29/100\n",
      "824/824 [==============================] - 0s 161us/sample - loss: 7.5797 - accuracy: 0.2136\n",
      "Epoch 30/100\n",
      "824/824 [==============================] - 0s 165us/sample - loss: 7.5140 - accuracy: 0.2221\n",
      "Epoch 31/100\n",
      "824/824 [==============================] - 0s 165us/sample - loss: 7.4625 - accuracy: 0.1978\n",
      "Epoch 32/100\n",
      "824/824 [==============================] - 0s 160us/sample - loss: 7.4216 - accuracy: 0.1845\n",
      "Epoch 33/100\n",
      "824/824 [==============================] - 0s 166us/sample - loss: 7.3648 - accuracy: 0.2148\n",
      "Epoch 34/100\n",
      "824/824 [==============================] - 0s 164us/sample - loss: 7.2836 - accuracy: 0.2512\n",
      "Epoch 35/100\n",
      "824/824 [==============================] - 0s 158us/sample - loss: 7.2979 - accuracy: 0.2670\n",
      "Epoch 36/100\n",
      "824/824 [==============================] - 0s 165us/sample - loss: 7.1756 - accuracy: 0.2221\n",
      "Epoch 37/100\n",
      "824/824 [==============================] - ETA: 0s - loss: 6.9220 - accuracy: 0.34 - 0s 184us/sample - loss: 7.1088 - accuracy: 0.3289\n",
      "Epoch 38/100\n",
      "824/824 [==============================] - 0s 175us/sample - loss: 7.0944 - accuracy: 0.2913\n",
      "Epoch 39/100\n",
      "824/824 [==============================] - 0s 156us/sample - loss: 7.0267 - accuracy: 0.2658\n",
      "Epoch 40/100\n",
      "824/824 [==============================] - 0s 198us/sample - loss: 6.9520 - accuracy: 0.2985\n",
      "Epoch 41/100\n",
      "824/824 [==============================] - 0s 166us/sample - loss: 6.8142 - accuracy: 0.4187\n",
      "Epoch 42/100\n",
      "824/824 [==============================] - 0s 151us/sample - loss: 6.8143 - accuracy: 0.3507\n",
      "Epoch 43/100\n",
      "824/824 [==============================] - 0s 216us/sample - loss: 6.6831 - accuracy: 0.4199\n",
      "Epoch 44/100\n",
      "824/824 [==============================] - 0s 211us/sample - loss: 6.5937 - accuracy: 0.3714\n",
      "Epoch 45/100\n",
      "824/824 [==============================] - 0s 232us/sample - loss: 6.4346 - accuracy: 0.3240\n",
      "Epoch 46/100\n",
      "824/824 [==============================] - 0s 184us/sample - loss: 6.3977 - accuracy: 0.3908\n",
      "Epoch 47/100\n",
      "824/824 [==============================] - 0s 173us/sample - loss: 6.3528 - accuracy: 0.3677\n",
      "Epoch 48/100\n",
      "824/824 [==============================] - 0s 162us/sample - loss: 6.2680 - accuracy: 0.3774\n",
      "Epoch 49/100\n",
      "824/824 [==============================] - 0s 175us/sample - loss: 6.1703 - accuracy: 0.4745\n",
      "Epoch 50/100\n",
      "824/824 [==============================] - 0s 180us/sample - loss: 6.0528 - accuracy: 0.3677\n",
      "Epoch 51/100\n",
      "824/824 [==============================] - 0s 203us/sample - loss: 6.0455 - accuracy: 0.3580\n",
      "Epoch 52/100\n",
      "824/824 [==============================] - 0s 196us/sample - loss: 5.9407 - accuracy: 0.4017\n",
      "Epoch 53/100\n",
      "824/824 [==============================] - 0s 165us/sample - loss: 5.9484 - accuracy: 0.3180\n",
      "Epoch 54/100\n",
      "824/824 [==============================] - 0s 173us/sample - loss: 5.9315 - accuracy: 0.4417\n",
      "Epoch 55/100\n",
      "824/824 [==============================] - 0s 174us/sample - loss: 5.7351 - accuracy: 0.4612\n",
      "Epoch 56/100\n",
      "824/824 [==============================] - 0s 168us/sample - loss: 5.7096 - accuracy: 0.4697\n",
      "Epoch 57/100\n",
      "824/824 [==============================] - 0s 168us/sample - loss: 5.6918 - accuracy: 0.3374\n",
      "Epoch 58/100\n",
      "824/824 [==============================] - 0s 209us/sample - loss: 5.6614 - accuracy: 0.4794\n",
      "Epoch 59/100\n",
      "824/824 [==============================] - 0s 205us/sample - loss: 5.6146 - accuracy: 0.3750\n",
      "Epoch 60/100\n",
      "824/824 [==============================] - 0s 219us/sample - loss: 5.6426 - accuracy: 0.4223\n",
      "Epoch 61/100\n",
      "824/824 [==============================] - 0s 198us/sample - loss: 5.5299 - accuracy: 0.4102\n",
      "Epoch 62/100\n",
      "824/824 [==============================] - 0s 184us/sample - loss: 5.5257 - accuracy: 0.4175\n",
      "Epoch 63/100\n",
      "824/824 [==============================] - 0s 183us/sample - loss: 5.4741 - accuracy: 0.3629\n",
      "Epoch 64/100\n",
      "824/824 [==============================] - 0s 172us/sample - loss: 5.4560 - accuracy: 0.4551\n",
      "Epoch 65/100\n",
      "824/824 [==============================] - 0s 213us/sample - loss: 5.3910 - accuracy: 0.3556\n",
      "Epoch 66/100\n",
      "824/824 [==============================] - 0s 207us/sample - loss: 5.4363 - accuracy: 0.4296\n",
      "Epoch 67/100\n",
      "824/824 [==============================] - 0s 177us/sample - loss: 5.5008 - accuracy: 0.3871\n",
      "Epoch 68/100\n",
      "824/824 [==============================] - 0s 161us/sample - loss: 5.3902 - accuracy: 0.4017\n",
      "Epoch 69/100\n",
      "824/824 [==============================] - 0s 163us/sample - loss: 5.4716 - accuracy: 0.4284\n",
      "Epoch 70/100\n",
      "824/824 [==============================] - 0s 171us/sample - loss: 5.4702 - accuracy: 0.4187\n",
      "Epoch 71/100\n",
      "824/824 [==============================] - 0s 169us/sample - loss: 5.4350 - accuracy: 0.3580\n",
      "Epoch 72/100\n",
      "824/824 [==============================] - 0s 181us/sample - loss: 5.3987 - accuracy: 0.4296\n",
      "Epoch 73/100\n",
      "824/824 [==============================] - 0s 174us/sample - loss: 5.3499 - accuracy: 0.3556\n",
      "Epoch 74/100\n",
      "824/824 [==============================] - 0s 165us/sample - loss: 5.3364 - accuracy: 0.3956\n",
      "Epoch 75/100\n",
      "824/824 [==============================] - 0s 165us/sample - loss: 5.3641 - accuracy: 0.3847\n",
      "Epoch 76/100\n"
     ]
    },
    {
     "name": "stdout",
     "output_type": "stream",
     "text": [
      "824/824 [==============================] - 0s 168us/sample - loss: 5.2867 - accuracy: 0.3701\n",
      "Epoch 77/100\n",
      "824/824 [==============================] - 0s 138us/sample - loss: 5.2813 - accuracy: 0.3968\n",
      "Epoch 78/100\n",
      "824/824 [==============================] - 0s 137us/sample - loss: 5.3551 - accuracy: 0.4114\n",
      "Epoch 79/100\n",
      "824/824 [==============================] - 0s 134us/sample - loss: 5.3329 - accuracy: 0.4502\n",
      "Epoch 80/100\n",
      "824/824 [==============================] - 0s 132us/sample - loss: 5.3405 - accuracy: 0.3932\n",
      "Epoch 81/100\n",
      "824/824 [==============================] - 0s 132us/sample - loss: 5.2981 - accuracy: 0.3386\n",
      "Epoch 82/100\n",
      "824/824 [==============================] - 0s 134us/sample - loss: 5.3764 - accuracy: 0.3689\n",
      "Epoch 83/100\n",
      "824/824 [==============================] - 0s 148us/sample - loss: 5.2141 - accuracy: 0.3459\n",
      "Epoch 84/100\n",
      "824/824 [==============================] - 0s 162us/sample - loss: 5.1909 - accuracy: 0.3337\n",
      "Epoch 85/100\n",
      "824/824 [==============================] - 0s 131us/sample - loss: 5.2502 - accuracy: 0.3580\n",
      "Epoch 86/100\n",
      "824/824 [==============================] - 0s 137us/sample - loss: 5.2600 - accuracy: 0.3786\n",
      "Epoch 87/100\n",
      "824/824 [==============================] - 0s 123us/sample - loss: 5.2309 - accuracy: 0.3277\n",
      "Epoch 88/100\n",
      "824/824 [==============================] - 0s 132us/sample - loss: 5.2720 - accuracy: 0.3993\n",
      "Epoch 89/100\n",
      "824/824 [==============================] - 0s 125us/sample - loss: 5.2636 - accuracy: 0.3726\n",
      "Epoch 90/100\n",
      "824/824 [==============================] - 0s 128us/sample - loss: 5.3396 - accuracy: 0.4078\n",
      "Epoch 91/100\n",
      "824/824 [==============================] - 0s 125us/sample - loss: 5.1867 - accuracy: 0.3604\n",
      "Epoch 92/100\n",
      "824/824 [==============================] - 0s 132us/sample - loss: 5.2486 - accuracy: 0.4551\n",
      "Epoch 93/100\n",
      "824/824 [==============================] - 0s 134us/sample - loss: 5.2028 - accuracy: 0.3726\n",
      "Epoch 94/100\n",
      "824/824 [==============================] - 0s 159us/sample - loss: 5.2534 - accuracy: 0.3835\n",
      "Epoch 95/100\n",
      "824/824 [==============================] - 0s 190us/sample - loss: 5.2014 - accuracy: 0.3434\n",
      "Epoch 96/100\n",
      "824/824 [==============================] - 0s 162us/sample - loss: 5.1752 - accuracy: 0.2803\n",
      "Epoch 97/100\n",
      "824/824 [==============================] - 0s 138us/sample - loss: 5.1861 - accuracy: 0.3337\n",
      "Epoch 98/100\n",
      "824/824 [==============================] - 0s 145us/sample - loss: 5.2466 - accuracy: 0.3653\n",
      "Epoch 99/100\n",
      "824/824 [==============================] - 0s 150us/sample - loss: 5.2383 - accuracy: 0.2973\n",
      "Epoch 100/100\n",
      "824/824 [==============================] - 0s 148us/sample - loss: 5.1864 - accuracy: 0.3459\n"
     ]
    }
   ],
   "source": [
    "history = model.fit(x_train, y_train, batch_size=10, epochs=100,verbose=1)#,validation_split=0.2)"
   ]
  },
  {
   "cell_type": "code",
   "execution_count": 85,
   "metadata": {},
   "outputs": [],
   "source": [
    "from tensorflow.keras import models\n",
    "from tensorflow.keras import layers\n",
    "def build_model():\n",
    "    model = models.Sequential()\n",
    "    model.add(layers.Dense(64, activation='relu',input_shape=(x_train.shape[1],)))\n",
    "    model.add(layers.Dense(64, activation='relu'))\n",
    "    model.add(layers.Dense(1))\n",
    "    model.compile(optimizer='rmsprop', loss='mae', metrics=['acc'])\n",
    "    return model"
   ]
  },
  {
   "cell_type": "code",
   "execution_count": 86,
   "metadata": {},
   "outputs": [],
   "source": [
    "import numpy as np\n",
    "k=4\n",
    "num_val_samples = len(x_train) // k\n",
    "num_epochs = 100\n",
    "all_scores = []"
   ]
  },
  {
   "cell_type": "code",
   "execution_count": null,
   "metadata": {},
   "outputs": [
    {
     "name": "stdout",
     "output_type": "stream",
     "text": [
      "processing fold # 0\n"
     ]
    }
   ],
   "source": [
    "for i in range(k):\n",
    "    print('processing fold #', i)\n",
    "    val_data = x_train[i * num_val_samples: (i + 1) * num_val_samples]\n",
    "    val_targets = y_train[i * num_val_samples: (i + 1) * num_val_samples]\n",
    "    partial_train_data = np.concatenate([x_train[:i * num_val_samples],\n",
    "                                         x_train[(i + 1) * num_val_samples:]]\n",
    "                                        ,axis=0)\n",
    "    partial_train_targets = np.concatenate([x_train[:i * num_val_samples],\n",
    "                                            x_train[(i + 1) * num_val_samples:]],\n",
    "                                           axis=0)\n",
    "    model = build_model()\n",
    "    model.fit(partial_train_data, partial_train_targets,epochs=num_epochs, batch_size=1, verbose=0)\n",
    "    val_mse, val_mae = model.evaluate(val_data, val_targets, verbose=0)\n",
    "    all_scores.append(val_mae)"
   ]
  },
  {
   "cell_type": "code",
   "execution_count": null,
   "metadata": {},
   "outputs": [],
   "source": []
  },
  {
   "cell_type": "code",
   "execution_count": null,
   "metadata": {},
   "outputs": [],
   "source": []
  }
 ],
 "metadata": {
  "kernelspec": {
   "display_name": "Python 3",
   "language": "python",
   "name": "python3"
  },
  "language_info": {
   "codemirror_mode": {
    "name": "ipython",
    "version": 3
   },
   "file_extension": ".py",
   "mimetype": "text/x-python",
   "name": "python",
   "nbconvert_exporter": "python",
   "pygments_lexer": "ipython3",
   "version": "3.7.3"
  }
 },
 "nbformat": 4,
 "nbformat_minor": 2
}
